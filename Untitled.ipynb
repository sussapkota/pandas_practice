{
 "cells": [
  {
   "cell_type": "code",
   "execution_count": 24,
   "id": "2dca8952",
   "metadata": {},
   "outputs": [],
   "source": [
    "import pandas as pd\n",
    "import numpy as np\n",
    "import matplotlib.pyplot as plt"
   ]
  },
  {
   "cell_type": "code",
   "execution_count": 25,
   "id": "11bfdf00",
   "metadata": {},
   "outputs": [],
   "source": [
    "df = pd.read_csv('Airports.csv')"
   ]
  },
  {
   "cell_type": "code",
   "execution_count": 26,
   "id": "0dfcf5bf",
   "metadata": {},
   "outputs": [
    {
     "data": {
      "text/html": [
       "<div>\n",
       "<style scoped>\n",
       "    .dataframe tbody tr th:only-of-type {\n",
       "        vertical-align: middle;\n",
       "    }\n",
       "\n",
       "    .dataframe tbody tr th {\n",
       "        vertical-align: top;\n",
       "    }\n",
       "\n",
       "    .dataframe thead th {\n",
       "        text-align: right;\n",
       "    }\n",
       "</style>\n",
       "<table border=\"1\" class=\"dataframe\">\n",
       "  <thead>\n",
       "    <tr style=\"text-align: right;\">\n",
       "      <th></th>\n",
       "      <th>Rank</th>\n",
       "      <th>Airport</th>\n",
       "      <th>Location</th>\n",
       "      <th>Country</th>\n",
       "      <th>Code</th>\n",
       "      <th>Passengers</th>\n",
       "      <th>Year</th>\n",
       "    </tr>\n",
       "  </thead>\n",
       "  <tbody>\n",
       "    <tr>\n",
       "      <th>0</th>\n",
       "      <td>1</td>\n",
       "      <td>China Guangzhou Baiyun International Airport</td>\n",
       "      <td>Baiyun-Huadu, Guangzhou, Guangdong</td>\n",
       "      <td>China</td>\n",
       "      <td>CAN/ZGGG</td>\n",
       "      <td>43760427</td>\n",
       "      <td>2020</td>\n",
       "    </tr>\n",
       "    <tr>\n",
       "      <th>1</th>\n",
       "      <td>2</td>\n",
       "      <td>United States Hartsfield–Jackson Atlanta Inter...</td>\n",
       "      <td>Atlanta, Georgia</td>\n",
       "      <td>United States</td>\n",
       "      <td>ATL/KATL</td>\n",
       "      <td>42918685</td>\n",
       "      <td>2020</td>\n",
       "    </tr>\n",
       "    <tr>\n",
       "      <th>2</th>\n",
       "      <td>3</td>\n",
       "      <td>China Chengdu Shuangliu International Airport</td>\n",
       "      <td>Shuangliu-Wuhou, Chengdu, Sichuan</td>\n",
       "      <td>China</td>\n",
       "      <td>CTU/ZUUU</td>\n",
       "      <td>40741509</td>\n",
       "      <td>2020</td>\n",
       "    </tr>\n",
       "    <tr>\n",
       "      <th>3</th>\n",
       "      <td>4</td>\n",
       "      <td>United States Dallas/Fort Worth International ...</td>\n",
       "      <td>Dallas-Fort Worth, Texas</td>\n",
       "      <td>United States</td>\n",
       "      <td>DFW/KDFW</td>\n",
       "      <td>39364990</td>\n",
       "      <td>2020</td>\n",
       "    </tr>\n",
       "    <tr>\n",
       "      <th>4</th>\n",
       "      <td>5</td>\n",
       "      <td>China Shenzhen Bao'an International Airport</td>\n",
       "      <td>Bao'an, Shenzhen, Guangdong</td>\n",
       "      <td>China</td>\n",
       "      <td>SZX/ZGSZ</td>\n",
       "      <td>37916059</td>\n",
       "      <td>2020</td>\n",
       "    </tr>\n",
       "  </tbody>\n",
       "</table>\n",
       "</div>"
      ],
      "text/plain": [
       "   Rank                                            Airport  \\\n",
       "0     1       China Guangzhou Baiyun International Airport   \n",
       "1     2  United States Hartsfield–Jackson Atlanta Inter...   \n",
       "2     3      China Chengdu Shuangliu International Airport   \n",
       "3     4  United States Dallas/Fort Worth International ...   \n",
       "4     5        China Shenzhen Bao'an International Airport   \n",
       "\n",
       "                             Location        Country      Code  Passengers  \\\n",
       "0  Baiyun-Huadu, Guangzhou, Guangdong          China  CAN/ZGGG    43760427   \n",
       "1                    Atlanta, Georgia  United States  ATL/KATL    42918685   \n",
       "2   Shuangliu-Wuhou, Chengdu, Sichuan          China  CTU/ZUUU    40741509   \n",
       "3            Dallas-Fort Worth, Texas  United States  DFW/KDFW    39364990   \n",
       "4         Bao'an, Shenzhen, Guangdong          China  SZX/ZGSZ    37916059   \n",
       "\n",
       "   Year  \n",
       "0  2020  \n",
       "1  2020  \n",
       "2  2020  \n",
       "3  2020  \n",
       "4  2020  "
      ]
     },
     "execution_count": 26,
     "metadata": {},
     "output_type": "execute_result"
    }
   ],
   "source": [
    "df.head()"
   ]
  },
  {
   "cell_type": "code",
   "execution_count": 27,
   "id": "57654449",
   "metadata": {},
   "outputs": [
    {
     "data": {
      "text/plain": [
       "(250, 7)"
      ]
     },
     "execution_count": 27,
     "metadata": {},
     "output_type": "execute_result"
    }
   ],
   "source": [
    "df.shape"
   ]
  },
  {
   "cell_type": "code",
   "execution_count": 28,
   "id": "1ba4d5aa",
   "metadata": {},
   "outputs": [
    {
     "name": "stdout",
     "output_type": "stream",
     "text": [
      "<class 'pandas.core.frame.DataFrame'>\n",
      "RangeIndex: 250 entries, 0 to 249\n",
      "Data columns (total 7 columns):\n",
      " #   Column      Non-Null Count  Dtype \n",
      "---  ------      --------------  ----- \n",
      " 0   Rank        250 non-null    int64 \n",
      " 1   Airport     250 non-null    object\n",
      " 2   Location    250 non-null    object\n",
      " 3   Country     250 non-null    object\n",
      " 4   Code        250 non-null    object\n",
      " 5   Passengers  250 non-null    int64 \n",
      " 6   Year        250 non-null    int64 \n",
      "dtypes: int64(3), object(4)\n",
      "memory usage: 13.8+ KB\n"
     ]
    }
   ],
   "source": [
    "df.info()"
   ]
  },
  {
   "cell_type": "code",
   "execution_count": 29,
   "id": "59266cd4",
   "metadata": {},
   "outputs": [],
   "source": [
    "sum_passenger_year = pd.pivot_table(df, index = ['Year'], aggfunc={'Passengers':'sum'})"
   ]
  },
  {
   "cell_type": "code",
   "execution_count": 38,
   "id": "23c8c2be",
   "metadata": {},
   "outputs": [
    {
     "data": {
      "text/plain": [
       "<AxesSubplot:xlabel='Year'>"
      ]
     },
     "execution_count": 38,
     "metadata": {},
     "output_type": "execute_result"
    },
    {
     "data": {
      "image/png": "[encoded data removed]",
      "text/plain": [
       "<Figure size 432x288 with 1 Axes>"
      ]
     },
     "metadata": {
      "needs_background": "light"
     },
     "output_type": "display_data"
    }
   ],
   "source": [
    "sum_passenger_year.plot.bar()"
   ]
  },
  {
   "cell_type": "code",
   "execution_count": 31,
   "id": "6aa21ea1",
   "metadata": {},
   "outputs": [],
   "source": [
    "sum_passenger_country = pd.pivot_table(df, index = ['Country'], aggfunc={'Passengers':'sum'})"
   ]
  },
  {
   "cell_type": "code",
   "execution_count": 39,
   "id": "730e709f",
   "metadata": {},
   "outputs": [
    {
     "data": {
      "text/plain": [
       "<AxesSubplot:xlabel='Country'>"
      ]
     },
     "execution_count": 39,
     "metadata": {},
     "output_type": "execute_result"
    },
    {
     "data": {
      "image/png": "[encoded data removed]",
      "text/plain": [
       "<Figure size 432x288 with 1 Axes>"
      ]
     },
     "metadata": {
      "needs_background": "light"
     },
     "output_type": "display_data"
    }
   ],
   "source": [
    "sum_passenger_country.sort_values('Passengers',ascending=False).head().plot.bar()"
   ]
  },
  {
   "cell_type": "code",
   "execution_count": null,
   "id": "c854f538",
   "metadata": {},
   "outputs": [],
   "source": []
  }
 ],
 "metadata": {
  "kernelspec": {
   "display_name": "Python 3 (ipykernel)",
   "language": "python",
   "name": "python3"
  },
  "language_info": {
   "codemirror_mode": {
    "name": "ipython",
    "version": 3
   },
   "file_extension": ".py",
   "mimetype": "text/x-python",
   "name": "python",
   "nbconvert_exporter": "python",
   "pygments_lexer": "ipython3",
   "version": "3.9.2"
  }
 },
 "nbformat": 4,
 "nbformat_minor": 5
}
