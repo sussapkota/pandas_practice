{
 "cells": [
  {
   "cell_type": "code",
   "execution_count": 36,
   "id": "e6dc5d49",
   "metadata": {},
   "outputs": [],
   "source": [
    "import pandas as pd\n",
    "import re"
   ]
  },
  {
   "cell_type": "code",
   "execution_count": 2,
   "id": "1247fd38",
   "metadata": {},
   "outputs": [],
   "source": [
    "# reading the excel sheet\n",
    "df = pd.read_excel('DataSetOne.xlsx',sheet_name='Sheet1')"
   ]
  },
  {
   "cell_type": "code",
   "execution_count": 3,
   "id": "ba6e6d0c",
   "metadata": {},
   "outputs": [
    {
     "data": {
      "text/plain": [
       "(8, 3)"
      ]
     },
     "execution_count": 3,
     "metadata": {},
     "output_type": "execute_result"
    }
   ],
   "source": [
    "df.shape"
   ]
  },
  {
   "cell_type": "code",
   "execution_count": 4,
   "id": "605981ca",
   "metadata": {},
   "outputs": [
    {
     "data": {
      "text/html": [
       "<div>\n",
       "<style scoped>\n",
       "    .dataframe tbody tr th:only-of-type {\n",
       "        vertical-align: middle;\n",
       "    }\n",
       "\n",
       "    .dataframe tbody tr th {\n",
       "        vertical-align: top;\n",
       "    }\n",
       "\n",
       "    .dataframe thead th {\n",
       "        text-align: right;\n",
       "    }\n",
       "</style>\n",
       "<table border=\"1\" class=\"dataframe\">\n",
       "  <thead>\n",
       "    <tr style=\"text-align: right;\">\n",
       "      <th></th>\n",
       "      <th>employee_id</th>\n",
       "      <th>name</th>\n",
       "      <th>email</th>\n",
       "    </tr>\n",
       "  </thead>\n",
       "  <tbody>\n",
       "    <tr>\n",
       "      <th>0</th>\n",
       "      <td>1</td>\n",
       "      <td>Aarati Shrestha</td>\n",
       "      <td>aarati@fuse.com</td>\n",
       "    </tr>\n",
       "    <tr>\n",
       "      <th>1</th>\n",
       "      <td>2</td>\n",
       "      <td>Birat Bade</td>\n",
       "      <td>birat@fuse.com</td>\n",
       "    </tr>\n",
       "    <tr>\n",
       "      <th>2</th>\n",
       "      <td>2</td>\n",
       "      <td>Birat Bade</td>\n",
       "      <td>birat@gmail.com</td>\n",
       "    </tr>\n",
       "    <tr>\n",
       "      <th>3</th>\n",
       "      <td>3</td>\n",
       "      <td>Arpan Aryal</td>\n",
       "      <td>arpan@fuse.com</td>\n",
       "    </tr>\n",
       "    <tr>\n",
       "      <th>4</th>\n",
       "      <td>4</td>\n",
       "      <td>Shekhar Khadka</td>\n",
       "      <td>shekhar@fuse.co</td>\n",
       "    </tr>\n",
       "    <tr>\n",
       "      <th>5</th>\n",
       "      <td>4</td>\n",
       "      <td>Shekhar Khadka</td>\n",
       "      <td>shekhar@gmail.com</td>\n",
       "    </tr>\n",
       "    <tr>\n",
       "      <th>6</th>\n",
       "      <td>4</td>\n",
       "      <td>Shekhar Khadka</td>\n",
       "      <td>shekhargmail.co</td>\n",
       "    </tr>\n",
       "    <tr>\n",
       "      <th>7</th>\n",
       "      <td>5</td>\n",
       "      <td>Santosh Silwal</td>\n",
       "      <td>NaN</td>\n",
       "    </tr>\n",
       "  </tbody>\n",
       "</table>\n",
       "</div>"
      ],
      "text/plain": [
       "   employee_id             name              email\n",
       "0            1  Aarati Shrestha    aarati@fuse.com\n",
       "1            2       Birat Bade     birat@fuse.com\n",
       "2            2       Birat Bade    birat@gmail.com\n",
       "3            3      Arpan Aryal     arpan@fuse.com\n",
       "4            4   Shekhar Khadka    shekhar@fuse.co\n",
       "5            4   Shekhar Khadka  shekhar@gmail.com\n",
       "6            4   Shekhar Khadka    shekhargmail.co\n",
       "7            5   Santosh Silwal                NaN"
      ]
     },
     "execution_count": 4,
     "metadata": {},
     "output_type": "execute_result"
    }
   ],
   "source": [
    "# checking the head of the data\n",
    "df.head(10)"
   ]
  },
  {
   "cell_type": "code",
   "execution_count": 5,
   "id": "55c3567a",
   "metadata": {},
   "outputs": [],
   "source": [
    "# sorting by name column\n",
    "df = df.sort_values(by=['name'])"
   ]
  },
  {
   "cell_type": "code",
   "execution_count": 6,
   "id": "acd756ea",
   "metadata": {},
   "outputs": [
    {
     "data": {
      "text/html": [
       "<div>\n",
       "<style scoped>\n",
       "    .dataframe tbody tr th:only-of-type {\n",
       "        vertical-align: middle;\n",
       "    }\n",
       "\n",
       "    .dataframe tbody tr th {\n",
       "        vertical-align: top;\n",
       "    }\n",
       "\n",
       "    .dataframe thead th {\n",
       "        text-align: right;\n",
       "    }\n",
       "</style>\n",
       "<table border=\"1\" class=\"dataframe\">\n",
       "  <thead>\n",
       "    <tr style=\"text-align: right;\">\n",
       "      <th></th>\n",
       "      <th>employee_id</th>\n",
       "      <th>name</th>\n",
       "      <th>email</th>\n",
       "    </tr>\n",
       "  </thead>\n",
       "  <tbody>\n",
       "    <tr>\n",
       "      <th>0</th>\n",
       "      <td>1</td>\n",
       "      <td>Aarati Shrestha</td>\n",
       "      <td>aarati@fuse.com</td>\n",
       "    </tr>\n",
       "    <tr>\n",
       "      <th>3</th>\n",
       "      <td>3</td>\n",
       "      <td>Arpan Aryal</td>\n",
       "      <td>arpan@fuse.com</td>\n",
       "    </tr>\n",
       "    <tr>\n",
       "      <th>1</th>\n",
       "      <td>2</td>\n",
       "      <td>Birat Bade</td>\n",
       "      <td>birat@fuse.com</td>\n",
       "    </tr>\n",
       "    <tr>\n",
       "      <th>2</th>\n",
       "      <td>2</td>\n",
       "      <td>Birat Bade</td>\n",
       "      <td>birat@gmail.com</td>\n",
       "    </tr>\n",
       "    <tr>\n",
       "      <th>7</th>\n",
       "      <td>5</td>\n",
       "      <td>Santosh Silwal</td>\n",
       "      <td>NaN</td>\n",
       "    </tr>\n",
       "    <tr>\n",
       "      <th>4</th>\n",
       "      <td>4</td>\n",
       "      <td>Shekhar Khadka</td>\n",
       "      <td>shekhar@fuse.co</td>\n",
       "    </tr>\n",
       "    <tr>\n",
       "      <th>5</th>\n",
       "      <td>4</td>\n",
       "      <td>Shekhar Khadka</td>\n",
       "      <td>shekhar@gmail.com</td>\n",
       "    </tr>\n",
       "    <tr>\n",
       "      <th>6</th>\n",
       "      <td>4</td>\n",
       "      <td>Shekhar Khadka</td>\n",
       "      <td>shekhargmail.co</td>\n",
       "    </tr>\n",
       "  </tbody>\n",
       "</table>\n",
       "</div>"
      ],
      "text/plain": [
       "   employee_id             name              email\n",
       "0            1  Aarati Shrestha    aarati@fuse.com\n",
       "3            3      Arpan Aryal     arpan@fuse.com\n",
       "1            2       Birat Bade     birat@fuse.com\n",
       "2            2       Birat Bade    birat@gmail.com\n",
       "7            5   Santosh Silwal                NaN\n",
       "4            4   Shekhar Khadka    shekhar@fuse.co\n",
       "5            4   Shekhar Khadka  shekhar@gmail.com\n",
       "6            4   Shekhar Khadka    shekhargmail.co"
      ]
     },
     "execution_count": 6,
     "metadata": {},
     "output_type": "execute_result"
    }
   ],
   "source": [
    "df.head(10)"
   ]
  },
  {
   "cell_type": "code",
   "execution_count": 14,
   "id": "649d728f",
   "metadata": {},
   "outputs": [],
   "source": [
    "# filtering out df which dont have any email\n",
    "df_without_email = df[df['email'].isnull()]"
   ]
  },
  {
   "cell_type": "code",
   "execution_count": 15,
   "id": "a3a86c60",
   "metadata": {},
   "outputs": [
    {
     "data": {
      "text/html": [
       "<div>\n",
       "<style scoped>\n",
       "    .dataframe tbody tr th:only-of-type {\n",
       "        vertical-align: middle;\n",
       "    }\n",
       "\n",
       "    .dataframe tbody tr th {\n",
       "        vertical-align: top;\n",
       "    }\n",
       "\n",
       "    .dataframe thead th {\n",
       "        text-align: right;\n",
       "    }\n",
       "</style>\n",
       "<table border=\"1\" class=\"dataframe\">\n",
       "  <thead>\n",
       "    <tr style=\"text-align: right;\">\n",
       "      <th></th>\n",
       "      <th>employee_id</th>\n",
       "      <th>name</th>\n",
       "      <th>email</th>\n",
       "    </tr>\n",
       "  </thead>\n",
       "  <tbody>\n",
       "    <tr>\n",
       "      <th>7</th>\n",
       "      <td>5</td>\n",
       "      <td>Santosh Silwal</td>\n",
       "      <td>NaN</td>\n",
       "    </tr>\n",
       "  </tbody>\n",
       "</table>\n",
       "</div>"
      ],
      "text/plain": [
       "   employee_id            name email\n",
       "7            5  Santosh Silwal   NaN"
      ]
     },
     "execution_count": 15,
     "metadata": {},
     "output_type": "execute_result"
    }
   ],
   "source": [
    "df_without_email"
   ]
  },
  {
   "cell_type": "code",
   "execution_count": 17,
   "id": "fc5c383c",
   "metadata": {},
   "outputs": [],
   "source": [
    "df_with_email = df[df['email'].notnull()]"
   ]
  },
  {
   "cell_type": "code",
   "execution_count": 21,
   "id": "c72b5799",
   "metadata": {},
   "outputs": [
    {
     "data": {
      "text/html": [
       "<div>\n",
       "<style scoped>\n",
       "    .dataframe tbody tr th:only-of-type {\n",
       "        vertical-align: middle;\n",
       "    }\n",
       "\n",
       "    .dataframe tbody tr th {\n",
       "        vertical-align: top;\n",
       "    }\n",
       "\n",
       "    .dataframe thead th {\n",
       "        text-align: right;\n",
       "    }\n",
       "</style>\n",
       "<table border=\"1\" class=\"dataframe\">\n",
       "  <thead>\n",
       "    <tr style=\"text-align: right;\">\n",
       "      <th></th>\n",
       "      <th>employee_id</th>\n",
       "      <th>name</th>\n",
       "      <th>email</th>\n",
       "    </tr>\n",
       "  </thead>\n",
       "  <tbody>\n",
       "    <tr>\n",
       "      <th>0</th>\n",
       "      <td>1</td>\n",
       "      <td>Aarati Shrestha</td>\n",
       "      <td>aarati@fuse.com</td>\n",
       "    </tr>\n",
       "    <tr>\n",
       "      <th>3</th>\n",
       "      <td>3</td>\n",
       "      <td>Arpan Aryal</td>\n",
       "      <td>arpan@fuse.com</td>\n",
       "    </tr>\n",
       "    <tr>\n",
       "      <th>1</th>\n",
       "      <td>2</td>\n",
       "      <td>Birat Bade</td>\n",
       "      <td>birat@fuse.com</td>\n",
       "    </tr>\n",
       "    <tr>\n",
       "      <th>2</th>\n",
       "      <td>2</td>\n",
       "      <td>Birat Bade</td>\n",
       "      <td>birat@gmail.com</td>\n",
       "    </tr>\n",
       "    <tr>\n",
       "      <th>4</th>\n",
       "      <td>4</td>\n",
       "      <td>Shekhar Khadka</td>\n",
       "      <td>shekhar@fuse.co</td>\n",
       "    </tr>\n",
       "    <tr>\n",
       "      <th>5</th>\n",
       "      <td>4</td>\n",
       "      <td>Shekhar Khadka</td>\n",
       "      <td>shekhar@gmail.com</td>\n",
       "    </tr>\n",
       "    <tr>\n",
       "      <th>6</th>\n",
       "      <td>4</td>\n",
       "      <td>Shekhar Khadka</td>\n",
       "      <td>shekhargmail.co</td>\n",
       "    </tr>\n",
       "  </tbody>\n",
       "</table>\n",
       "</div>"
      ],
      "text/plain": [
       "   employee_id             name              email\n",
       "0            1  Aarati Shrestha    aarati@fuse.com\n",
       "3            3      Arpan Aryal     arpan@fuse.com\n",
       "1            2       Birat Bade     birat@fuse.com\n",
       "2            2       Birat Bade    birat@gmail.com\n",
       "4            4   Shekhar Khadka    shekhar@fuse.co\n",
       "5            4   Shekhar Khadka  shekhar@gmail.com\n",
       "6            4   Shekhar Khadka    shekhargmail.co"
      ]
     },
     "execution_count": 21,
     "metadata": {},
     "output_type": "execute_result"
    }
   ],
   "source": [
    "df_with_email"
   ]
  },
  {
   "cell_type": "code",
   "execution_count": 19,
   "id": "745238b7",
   "metadata": {},
   "outputs": [],
   "source": [
    "# let's work with df which has email"
   ]
  },
  {
   "cell_type": "code",
   "execution_count": 30,
   "id": "c8f1a2fd",
   "metadata": {},
   "outputs": [],
   "source": [
    "# ~ is to use complement of df\n",
    "fuse_email = df_with_email[~df_with_email.email.str.contains(\"gmail\", na=False)]"
   ]
  },
  {
   "cell_type": "code",
   "execution_count": 31,
   "id": "90b064ca",
   "metadata": {},
   "outputs": [
    {
     "data": {
      "text/html": [
       "<div>\n",
       "<style scoped>\n",
       "    .dataframe tbody tr th:only-of-type {\n",
       "        vertical-align: middle;\n",
       "    }\n",
       "\n",
       "    .dataframe tbody tr th {\n",
       "        vertical-align: top;\n",
       "    }\n",
       "\n",
       "    .dataframe thead th {\n",
       "        text-align: right;\n",
       "    }\n",
       "</style>\n",
       "<table border=\"1\" class=\"dataframe\">\n",
       "  <thead>\n",
       "    <tr style=\"text-align: right;\">\n",
       "      <th></th>\n",
       "      <th>employee_id</th>\n",
       "      <th>name</th>\n",
       "      <th>email</th>\n",
       "    </tr>\n",
       "  </thead>\n",
       "  <tbody>\n",
       "    <tr>\n",
       "      <th>0</th>\n",
       "      <td>1</td>\n",
       "      <td>Aarati Shrestha</td>\n",
       "      <td>aarati@fuse.com</td>\n",
       "    </tr>\n",
       "    <tr>\n",
       "      <th>3</th>\n",
       "      <td>3</td>\n",
       "      <td>Arpan Aryal</td>\n",
       "      <td>arpan@fuse.com</td>\n",
       "    </tr>\n",
       "    <tr>\n",
       "      <th>1</th>\n",
       "      <td>2</td>\n",
       "      <td>Birat Bade</td>\n",
       "      <td>birat@fuse.com</td>\n",
       "    </tr>\n",
       "    <tr>\n",
       "      <th>4</th>\n",
       "      <td>4</td>\n",
       "      <td>Shekhar Khadka</td>\n",
       "      <td>shekhar@fuse.co</td>\n",
       "    </tr>\n",
       "  </tbody>\n",
       "</table>\n",
       "</div>"
      ],
      "text/plain": [
       "   employee_id             name            email\n",
       "0            1  Aarati Shrestha  aarati@fuse.com\n",
       "3            3      Arpan Aryal   arpan@fuse.com\n",
       "1            2       Birat Bade   birat@fuse.com\n",
       "4            4   Shekhar Khadka  shekhar@fuse.co"
      ]
     },
     "execution_count": 31,
     "metadata": {},
     "output_type": "execute_result"
    }
   ],
   "source": [
    "fuse_email"
   ]
  },
  {
   "cell_type": "code",
   "execution_count": 33,
   "id": "d19af0dc",
   "metadata": {},
   "outputs": [],
   "source": [
    "gmail_email = df_with_email[df_with_email.email.str.contains(\"gmail\", na=False)]"
   ]
  },
  {
   "cell_type": "code",
   "execution_count": 35,
   "id": "4e7eeb54",
   "metadata": {},
   "outputs": [
    {
     "data": {
      "text/html": [
       "<div>\n",
       "<style scoped>\n",
       "    .dataframe tbody tr th:only-of-type {\n",
       "        vertical-align: middle;\n",
       "    }\n",
       "\n",
       "    .dataframe tbody tr th {\n",
       "        vertical-align: top;\n",
       "    }\n",
       "\n",
       "    .dataframe thead th {\n",
       "        text-align: right;\n",
       "    }\n",
       "</style>\n",
       "<table border=\"1\" class=\"dataframe\">\n",
       "  <thead>\n",
       "    <tr style=\"text-align: right;\">\n",
       "      <th></th>\n",
       "      <th>employee_id</th>\n",
       "      <th>name</th>\n",
       "      <th>email</th>\n",
       "    </tr>\n",
       "  </thead>\n",
       "  <tbody>\n",
       "    <tr>\n",
       "      <th>2</th>\n",
       "      <td>2</td>\n",
       "      <td>Birat Bade</td>\n",
       "      <td>birat@gmail.com</td>\n",
       "    </tr>\n",
       "    <tr>\n",
       "      <th>5</th>\n",
       "      <td>4</td>\n",
       "      <td>Shekhar Khadka</td>\n",
       "      <td>shekhar@gmail.com</td>\n",
       "    </tr>\n",
       "    <tr>\n",
       "      <th>6</th>\n",
       "      <td>4</td>\n",
       "      <td>Shekhar Khadka</td>\n",
       "      <td>shekhargmail.co</td>\n",
       "    </tr>\n",
       "  </tbody>\n",
       "</table>\n",
       "</div>"
      ],
      "text/plain": [
       "   employee_id            name              email\n",
       "2            2      Birat Bade    birat@gmail.com\n",
       "5            4  Shekhar Khadka  shekhar@gmail.com\n",
       "6            4  Shekhar Khadka    shekhargmail.co"
      ]
     },
     "execution_count": 35,
     "metadata": {},
     "output_type": "execute_result"
    }
   ],
   "source": [
    "gmail_email"
   ]
  },
  {
   "cell_type": "code",
   "execution_count": 47,
   "id": "fc21c66d",
   "metadata": {},
   "outputs": [
    {
     "data": {
      "text/html": [
       "<div>\n",
       "<style scoped>\n",
       "    .dataframe tbody tr th:only-of-type {\n",
       "        vertical-align: middle;\n",
       "    }\n",
       "\n",
       "    .dataframe tbody tr th {\n",
       "        vertical-align: top;\n",
       "    }\n",
       "\n",
       "    .dataframe thead th {\n",
       "        text-align: right;\n",
       "    }\n",
       "</style>\n",
       "<table border=\"1\" class=\"dataframe\">\n",
       "  <thead>\n",
       "    <tr style=\"text-align: right;\">\n",
       "      <th></th>\n",
       "      <th>employee_id</th>\n",
       "      <th>name</th>\n",
       "      <th>email</th>\n",
       "    </tr>\n",
       "  </thead>\n",
       "  <tbody>\n",
       "    <tr>\n",
       "      <th>0</th>\n",
       "      <td>1</td>\n",
       "      <td>Aarati Shrestha</td>\n",
       "      <td>aarati@fuse.com</td>\n",
       "    </tr>\n",
       "    <tr>\n",
       "      <th>3</th>\n",
       "      <td>3</td>\n",
       "      <td>Arpan Aryal</td>\n",
       "      <td>arpan@fuse.com</td>\n",
       "    </tr>\n",
       "    <tr>\n",
       "      <th>1</th>\n",
       "      <td>2</td>\n",
       "      <td>Birat Bade</td>\n",
       "      <td>birat@fuse.com</td>\n",
       "    </tr>\n",
       "    <tr>\n",
       "      <th>2</th>\n",
       "      <td>2</td>\n",
       "      <td>Birat Bade</td>\n",
       "      <td>birat@gmail.com</td>\n",
       "    </tr>\n",
       "    <tr>\n",
       "      <th>4</th>\n",
       "      <td>4</td>\n",
       "      <td>Shekhar Khadka</td>\n",
       "      <td>shekhar@fuse.co</td>\n",
       "    </tr>\n",
       "    <tr>\n",
       "      <th>5</th>\n",
       "      <td>4</td>\n",
       "      <td>Shekhar Khadka</td>\n",
       "      <td>shekhar@gmail.com</td>\n",
       "    </tr>\n",
       "    <tr>\n",
       "      <th>6</th>\n",
       "      <td>4</td>\n",
       "      <td>Shekhar Khadka</td>\n",
       "      <td>shekhargmail.co</td>\n",
       "    </tr>\n",
       "  </tbody>\n",
       "</table>\n",
       "</div>"
      ],
      "text/plain": [
       "   employee_id             name              email\n",
       "0            1  Aarati Shrestha    aarati@fuse.com\n",
       "3            3      Arpan Aryal     arpan@fuse.com\n",
       "1            2       Birat Bade     birat@fuse.com\n",
       "2            2       Birat Bade    birat@gmail.com\n",
       "4            4   Shekhar Khadka    shekhar@fuse.co\n",
       "5            4   Shekhar Khadka  shekhar@gmail.com\n",
       "6            4   Shekhar Khadka    shekhargmail.co"
      ]
     },
     "execution_count": 47,
     "metadata": {},
     "output_type": "execute_result"
    }
   ],
   "source": [
    "regex = \"com$\"\n",
    "df_with_email"
   ]
  },
  {
   "cell_type": "code",
   "execution_count": 48,
   "id": "ac82fdac",
   "metadata": {},
   "outputs": [],
   "source": [
    "valid_email = df_with_email[df_with_email.email.str.contains(regex, na=False)]"
   ]
  },
  {
   "cell_type": "code",
   "execution_count": 50,
   "id": "4e40ae2d",
   "metadata": {},
   "outputs": [
    {
     "data": {
      "text/html": [
       "<div>\n",
       "<style scoped>\n",
       "    .dataframe tbody tr th:only-of-type {\n",
       "        vertical-align: middle;\n",
       "    }\n",
       "\n",
       "    .dataframe tbody tr th {\n",
       "        vertical-align: top;\n",
       "    }\n",
       "\n",
       "    .dataframe thead th {\n",
       "        text-align: right;\n",
       "    }\n",
       "</style>\n",
       "<table border=\"1\" class=\"dataframe\">\n",
       "  <thead>\n",
       "    <tr style=\"text-align: right;\">\n",
       "      <th></th>\n",
       "      <th>employee_id</th>\n",
       "      <th>name</th>\n",
       "      <th>email</th>\n",
       "    </tr>\n",
       "  </thead>\n",
       "  <tbody>\n",
       "    <tr>\n",
       "      <th>0</th>\n",
       "      <td>1</td>\n",
       "      <td>Aarati Shrestha</td>\n",
       "      <td>aarati@fuse.com</td>\n",
       "    </tr>\n",
       "    <tr>\n",
       "      <th>3</th>\n",
       "      <td>3</td>\n",
       "      <td>Arpan Aryal</td>\n",
       "      <td>arpan@fuse.com</td>\n",
       "    </tr>\n",
       "    <tr>\n",
       "      <th>1</th>\n",
       "      <td>2</td>\n",
       "      <td>Birat Bade</td>\n",
       "      <td>birat@fuse.com</td>\n",
       "    </tr>\n",
       "    <tr>\n",
       "      <th>2</th>\n",
       "      <td>2</td>\n",
       "      <td>Birat Bade</td>\n",
       "      <td>birat@gmail.com</td>\n",
       "    </tr>\n",
       "    <tr>\n",
       "      <th>5</th>\n",
       "      <td>4</td>\n",
       "      <td>Shekhar Khadka</td>\n",
       "      <td>shekhar@gmail.com</td>\n",
       "    </tr>\n",
       "  </tbody>\n",
       "</table>\n",
       "</div>"
      ],
      "text/plain": [
       "   employee_id             name              email\n",
       "0            1  Aarati Shrestha    aarati@fuse.com\n",
       "3            3      Arpan Aryal     arpan@fuse.com\n",
       "1            2       Birat Bade     birat@fuse.com\n",
       "2            2       Birat Bade    birat@gmail.com\n",
       "5            4   Shekhar Khadka  shekhar@gmail.com"
      ]
     },
     "execution_count": 50,
     "metadata": {},
     "output_type": "execute_result"
    }
   ],
   "source": [
    "valid_email"
   ]
  },
  {
   "cell_type": "code",
   "execution_count": 52,
   "id": "82bfb5f9",
   "metadata": {},
   "outputs": [],
   "source": [
    "invalid_email = df_with_email[~df_with_email.email.str.contains(regex, na=False)]"
   ]
  },
  {
   "cell_type": "code",
   "execution_count": 54,
   "id": "922890b3",
   "metadata": {},
   "outputs": [
    {
     "data": {
      "text/html": [
       "<div>\n",
       "<style scoped>\n",
       "    .dataframe tbody tr th:only-of-type {\n",
       "        vertical-align: middle;\n",
       "    }\n",
       "\n",
       "    .dataframe tbody tr th {\n",
       "        vertical-align: top;\n",
       "    }\n",
       "\n",
       "    .dataframe thead th {\n",
       "        text-align: right;\n",
       "    }\n",
       "</style>\n",
       "<table border=\"1\" class=\"dataframe\">\n",
       "  <thead>\n",
       "    <tr style=\"text-align: right;\">\n",
       "      <th></th>\n",
       "      <th>employee_id</th>\n",
       "      <th>name</th>\n",
       "      <th>email</th>\n",
       "    </tr>\n",
       "  </thead>\n",
       "  <tbody>\n",
       "    <tr>\n",
       "      <th>4</th>\n",
       "      <td>4</td>\n",
       "      <td>Shekhar Khadka</td>\n",
       "      <td>shekhar@fuse.co</td>\n",
       "    </tr>\n",
       "    <tr>\n",
       "      <th>6</th>\n",
       "      <td>4</td>\n",
       "      <td>Shekhar Khadka</td>\n",
       "      <td>shekhargmail.co</td>\n",
       "    </tr>\n",
       "  </tbody>\n",
       "</table>\n",
       "</div>"
      ],
      "text/plain": [
       "   employee_id            name            email\n",
       "4            4  Shekhar Khadka  shekhar@fuse.co\n",
       "6            4  Shekhar Khadka  shekhargmail.co"
      ]
     },
     "execution_count": 54,
     "metadata": {},
     "output_type": "execute_result"
    }
   ],
   "source": [
    "invalid_email"
   ]
  },
  {
   "cell_type": "code",
   "execution_count": 55,
   "id": "66d2e06a",
   "metadata": {},
   "outputs": [],
   "source": [
    "! pip freeze > requirements.txt"
   ]
  }
 ],
 "metadata": {
  "kernelspec": {
   "display_name": "Python 3 (ipykernel)",
   "language": "python",
   "name": "python3"
  },
  "language_info": {
   "codemirror_mode": {
    "name": "ipython",
    "version": 3
   },
   "file_extension": ".py",
   "mimetype": "text/x-python",
   "name": "python",
   "nbconvert_exporter": "python",
   "pygments_lexer": "ipython3",
   "version": "3.9.2"
  }
 },
 "nbformat": 4,
 "nbformat_minor": 5
}
